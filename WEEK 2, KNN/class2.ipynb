{
  "cells": [
    {
      "cell_type": "markdown",
      "metadata": {
        "id": "MKny0_nOZquK"
      },
      "source": [
        "# Supervised learning (k-nearest neighbor) - Exercises"
      ]
    },
    {
      "cell_type": "markdown",
      "metadata": {
        "id": "67s-Mxj3ZquT"
      },
      "source": [
        "## Introduction\n",
        "\n",
        "In this exercise, we will use customer churn data from the telecommunications industry. The data file is named Orange_Telecom_Churn_Data.csv. We will load this data, perform some preprocessing, and use K-nearest neighbors to predict customer churn based on account characteristics."
      ]
    },
    {
      "cell_type": "code",
      "execution_count": 1,
      "metadata": {
        "ExecuteTime": {
          "end_time": "2021-09-24T17:39:25.142951Z",
          "start_time": "2021-09-24T17:39:18.604715Z"
        },
        "id": "j39MjWblZquT"
      },
      "outputs": [],
      "source": [
        "from sklearn.preprocessing import LabelBinarizer\n",
        "from sklearn.preprocessing import MinMaxScaler\n",
        "from sklearn.neighbors import KNeighborsClassifier\n",
        "\n"
      ]
    },
    {
      "cell_type": "markdown",
      "metadata": {
        "id": "s_Y3L7DpZquW"
      },
      "source": [
        "## Question 1\n",
        "\n",
        "* Start by importing the data. Examine the columns and the data.\n",
        "* Notice that the data includes the state, area code, and phone number. Do you think these are good features to include in a machine learning model? Why or why not?\n",
        "\n",
        "We will not be using them, so they can be removed from the data."
      ]
    },
    {
      "cell_type": "code",
      "execution_count": 3,
      "metadata": {
        "ExecuteTime": {
          "end_time": "2021-09-24T17:39:25.235951Z",
          "start_time": "2021-09-24T17:39:25.146960Z"
        },
        "id": "UVj1crPKZquW"
      },
      "outputs": [],
      "source": [
        "import pandas as pd\n",
        "\n",
        "# Import the data using the file path\n",
        "filepath = \"http://web.uni-corvinus.hu/~fszabina/data/Orange_Telecom_Churn_Data.csv\"\n",
        "\n",
        "data = pd.read_csv(filepath)"
      ]
    },
    {
      "cell_type": "code",
      "execution_count": null,
      "metadata": {
        "ExecuteTime": {
          "end_time": "2021-09-24T17:39:27.802971Z",
          "start_time": "2021-09-24T17:39:25.239953Z"
        },
        "id": "QveQ1aW6ZquX"
      },
      "outputs": [],
      "source": []
    },
    {
      "cell_type": "code",
      "execution_count": 5,
      "metadata": {
        "ExecuteTime": {
          "end_time": "2021-09-24T17:39:27.818976Z",
          "start_time": "2021-09-24T17:39:27.806968Z"
        },
        "id": "sETnhj20ZquX"
      },
      "outputs": [],
      "source": [
        "# Remove extraneous columns\n",
        "# 'state', 'area_code', 'phone_number'\n",
        "data.drop(columns=['state', 'area_code', 'phone_number'], inplace=True)\n",
        "# Remove extraneous columns\n"
      ]
    },
    {
      "cell_type": "code",
      "execution_count": null,
      "metadata": {
        "ExecuteTime": {
          "end_time": "2021-09-24T17:39:27.834972Z",
          "start_time": "2021-09-24T17:39:27.822969Z"
        },
        "id": "bAh-KHOFZquY"
      },
      "outputs": [],
      "source": [
        "# chck the data columns"
      ]
    },
    {
      "cell_type": "markdown",
      "metadata": {
        "id": "Sbi1P4AkZquZ"
      },
      "source": [
        "## Question 2\n",
        "\n",
        "* Note that some of the columns contain categorical data, while others contain floating point data. These characteristics must be encoded numerically.\n",
        "* Data scaled to K-nearest neighbors is required. Scale the data using one of the scaling methods discussed in the lecture."
      ]
    },
    {
      "cell_type": "code",
      "execution_count": null,
      "metadata": {
        "ExecuteTime": {
          "end_time": "2021-09-24T17:39:28.053972Z",
          "start_time": "2021-09-24T17:39:27.838972Z"
        },
        "id": "CKTE39dqZquZ"
      },
      "outputs": [],
      "source": [
        "lb = LabelBinarizer()\n",
        "\n",
        "for col in ['intl_plan', 'voice_mail_plan', 'churned']:\n",
        "    data[col] = lb.fit_transform(data[col])"
      ]
    },
    {
      "cell_type": "code",
      "execution_count": null,
      "metadata": {
        "ExecuteTime": {
          "end_time": "2021-09-24T17:39:29.462033Z",
          "start_time": "2021-09-24T17:39:28.057969Z"
        },
        "id": "GFBqeCYFZqua"
      },
      "outputs": [],
      "source": [
        "# Mute the sklearn warning\n",
        "import warnings\n",
        "warnings.filterwarnings('ignore', module='sklearn')\n",
        "\n",
        "#MinMax scaler()\n",
        "\n"
      ]
    },
    {
      "cell_type": "markdown",
      "metadata": {
        "id": "m3rK6kHpZqua"
      },
      "source": [
        "## Question 3\n",
        "\n",
        "* Separate the feature columns (everything except `churned`) from the label (`churned`). This will create two tables.\n",
        "* Fit a k-nearest neighbors model with k=3 to this data and predict the result on the same data."
      ]
    },
    {
      "cell_type": "code",
      "execution_count": null,
      "metadata": {
        "ExecuteTime": {
          "end_time": "2021-09-24T17:39:29.478033Z",
          "start_time": "2021-09-24T17:39:29.468035Z"
        },
        "id": "U0jE7VBhZqua"
      },
      "outputs": [],
      "source": [
        "# Get a list of all the columns that don't contain the label\n",
        "\n",
        "\n",
        "# Split the data into two dataframes\n",
        "\n",
        "\n",
        "# # alternatively:\n",
        "# X_data = data.copy()\n",
        "# y_data = X_data.pop('churned')"
      ]
    },
    {
      "cell_type": "code",
      "execution_count": null,
      "metadata": {
        "ExecuteTime": {
          "end_time": "2021-09-24T17:39:31.792494Z",
          "start_time": "2021-09-24T17:39:29.483035Z"
        },
        "id": "98lrCjItZqua"
      },
      "outputs": [],
      "source": [
        "#knn\n"
      ]
    },
    {
      "cell_type": "markdown",
      "metadata": {
        "id": "hey3ZZ4YZqub"
      },
      "source": [
        "## Question 4\n",
        "\n",
        "We haven't talked about how to measure error yet, but accuracy is easy to understand—it's just the percentage of correctly predicted (true or false) labels.\n",
        "* Write a function to calculate accuracy using the actual and predicted labels.\n",
        "\n",
        "* Use the function to calculate the accuracy of this K-nearest neighbor model on the data."
      ]
    },
    {
      "cell_type": "code",
      "execution_count": null,
      "metadata": {
        "ExecuteTime": {
          "end_time": "2021-09-24T17:39:31.808017Z",
          "start_time": "2021-09-24T17:39:31.796497Z"
        },
        "id": "dPd3-WALZqub"
      },
      "outputs": [],
      "source": [
        "# Function to calculate the % of values that were correctly predicted\n",
        "\n",
        "def accuracy(real, predict):\n"
      ]
    },
    {
      "cell_type": "code",
      "execution_count": null,
      "metadata": {
        "ExecuteTime": {
          "end_time": "2021-09-24T17:39:31.869542Z",
          "start_time": "2021-09-24T17:39:31.811540Z"
        },
        "id": "ME9wRex9Zqub"
      },
      "outputs": [],
      "source": [
        "print(accuracy(y_data, y_pred))"
      ]
    },
    {
      "cell_type": "markdown",
      "metadata": {
        "id": "YC5YDRgBZqub"
      },
      "source": [
        "## Question 5\n",
        "\n",
        "* Fit the K-nearest neighbors model again with `n_neighbors=3`, but this time use the distance of the weights. Calculate the accuracy using the function created above.\n",
        "\n",
        "* Fit another K-nearest neighbors model. This time, use uniform weights, but set the performance parameter of the Minkowski distance metric to 1 (`p=1`), i.e., Manhattan distance.\n",
        "\n",
        "If we use weighted distances in part 1 of the question, the accuracy should be 1.0. Why do you think this is the case? <br>\n",
        "*Hint:* we are predicting on the data, and in the case of KNN, the model is *the* data. In the next exercise, we will learn how to avoid this pitfall."
      ]
    },
    {
      "cell_type": "code",
      "execution_count": null,
      "metadata": {
        "ExecuteTime": {
          "end_time": "2021-09-24T17:39:33.560704Z",
          "start_time": "2021-09-24T17:39:31.872537Z"
        },
        "id": "1j2hhXIhZqub"
      },
      "outputs": [],
      "source": [
        "#n_neighbors=3\n"
      ]
    },
    {
      "cell_type": "code",
      "execution_count": null,
      "metadata": {
        "ExecuteTime": {
          "end_time": "2021-09-24T17:39:35.719931Z",
          "start_time": "2021-09-24T17:39:33.564707Z"
        },
        "id": "QJJNFizQZquc"
      },
      "outputs": [],
      "source": [
        "# n_neighbors=5\n"
      ]
    },
    {
      "cell_type": "markdown",
      "metadata": {
        "id": "0z7_7JG7Zquc"
      },
      "source": [
        "## Question 6\n",
        "\n",
        "* Fit a K-nearest neighbors model with values of `k` (`n_neighbors`) between 1 and 20. Use uniform weights (default). The Minkowski distance coefficient (`p`) can be 1 or 2—just be consistent. Store the accuracy and the value of `k` used for each fitting in a list or dictionary.\n",
        "\n",
        "* Plot (or look at the table) the accuracy as a function of `k`. What do you notice happens when `k=1`? Why do you think this is the case?"
      ]
    },
    {
      "cell_type": "code",
      "execution_count": null,
      "metadata": {
        "ExecuteTime": {
          "end_time": "2021-09-24T17:40:09.584584Z",
          "start_time": "2021-09-24T17:39:35.726931Z"
        },
        "id": "muYfKOHtZquc"
      },
      "outputs": [],
      "source": [
        "# Fit the K-nearest neighbors model with different values of k\n",
        "# Store the accuracy measurement for each k\n",
        "\n",
        "#score_list = list()\n",
        "\n"
      ]
    },
    {
      "cell_type": "code",
      "execution_count": null,
      "metadata": {
        "ExecuteTime": {
          "end_time": "2021-09-24T17:40:10.214160Z",
          "start_time": "2021-09-24T17:40:09.587584Z"
        },
        "id": "NiGyyTLSZquc"
      },
      "outputs": [],
      "source": [
        "# Import libraries to make the plot\n",
        "\n",
        "import matplotlib.pyplot as plt\n",
        "import seaborn as sns\n",
        "\n",
        "%matplotlib inline"
      ]
    },
    {
      "cell_type": "code",
      "execution_count": null,
      "metadata": {
        "ExecuteTime": {
          "end_time": "2021-09-24T17:40:10.853317Z",
          "start_time": "2021-09-24T17:40:10.218157Z"
        },
        "id": "BRytP23IZquc"
      },
      "outputs": [],
      "source": []
    }
  ],
  "metadata": {
    "anaconda-cloud": {},
    "colab": {
      "provenance": []
    },
    "kernelspec": {
      "display_name": "Python 3",
      "language": "python",
      "name": "python3"
    },
    "language_info": {
      "codemirror_mode": {
        "name": "ipython",
        "version": 3
      },
      "file_extension": ".py",
      "mimetype": "text/x-python",
      "name": "python",
      "nbconvert_exporter": "python",
      "pygments_lexer": "ipython3",
      "version": "3.12.1"
    },
    "name": "Linear_Regression_and_K_Nearest_Neighbors_Exercises-ANSWERS",
    "notebookId": 2125319687183902
  },
  "nbformat": 4,
  "nbformat_minor": 0
}
